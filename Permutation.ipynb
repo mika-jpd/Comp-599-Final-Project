{
 "cells": [
  {
   "cell_type": "code",
   "execution_count": 4,
   "metadata": {
    "pycharm": {
     "name": "#%%\n"
    }
   },
   "outputs": [
    {
     "name": "stderr",
     "output_type": "stream",
     "text": [
      "C:\\Users\\mikad\\anaconda3\\lib\\site-packages\\numpy\\_distributor_init.py:30: UserWarning: loaded more than 1 DLL from .libs:\n",
      "C:\\Users\\mikad\\anaconda3\\lib\\site-packages\\numpy\\.libs\\libopenblas.WCDJNK7YVMPZQ2ME2ZZHJJRJ3JIKNDB7.gfortran-win_amd64.dll\n",
      "C:\\Users\\mikad\\anaconda3\\lib\\site-packages\\numpy\\.libs\\libopenblas.XWYDX2IKJW2NMTWSFYNGFUWKQU3LYTCZ.gfortran-win_amd64.dll\n",
      "  warnings.warn(\"loaded more than 1 DLL from .libs:\"\n"
     ]
    }
   ],
   "source": [
    "from genericpath import exists\n",
    "from random import Random\n",
    "from typing import List, Dict, Any\n",
    "from numpy.core.records import array\n",
    "import torch\n",
    "import json\n",
    "import pandas as pd\n",
    "import copy\n",
    "import random\n",
    "from tqdm.auto import tqdm\n",
    "from pathlib import Path\n",
    "\n",
    "import spacy\n",
    "from spacy.lang.en import English\n",
    "from spacy.tokens.token import Token\n",
    "import argparse\n",
    "import pandas as pd\n",
    "from collections import Counter\n",
    "import copy\n",
    "import random\n",
    "from scipy.special import softmax\n",
    "import argparse\n",
    "import yaml\n",
    "from addict import Dict\n",
    "\n",
    "import numpy as np\n",
    "#from common import load_json, load_jsonl, save_jsonl\n",
    "\n",
    "from transformers import AutoTokenizer, AutoModel\n",
    "import torch\n",
    "import sys\n",
    "import json_lines"
   ]
  },
  {
   "cell_type": "code",
   "execution_count": 14,
   "metadata": {
    "pycharm": {
     "name": "#%%\n"
    }
   },
   "outputs": [
    {
     "name": "stderr",
     "output_type": "stream",
     "text": [
      "Token indices sequence length is longer than the specified maximum sequence length for this model (5942 > 512). Running this sequence through the model will result in indexing errors\n"
     ]
    },
    {
     "data": {
      "application/vnd.jupyter.widget-view+json": {
       "model_id": "872761d0e5a045e08d6ded2f8e1a8068",
       "version_major": 2,
       "version_minor": 0
      },
      "text/plain": [
       "  0%|          | 0/2000 [00:00<?, ?it/s]"
      ]
     },
     "metadata": {},
     "output_type": "display_data"
    },
    {
     "name": "stdout",
     "output_type": "stream",
     "text": [
      "okay\n"
     ]
    }
   ],
   "source": [
    "tokenizer = AutoTokenizer.from_pretrained(\"microsoft/codebert-base\")\n",
    "device = torch.device('cpu')\n",
    "\n",
    "#train & valid & test are in txt files\n",
    "def load_file(filepath, mode='jsonl'):\n",
    "    with open(filepath, 'r') as outfile:\n",
    "        url_to_code = {}\n",
    "        if mode == 'jsonl':\n",
    "            for line in outfile:\n",
    "                line = line.strip()\n",
    "                js = json.loads(line)\n",
    "\n",
    "                url_to_code[js['idx']] = js['func']\n",
    "\n",
    "            return url_to_code\n",
    "        elif mode == 'txt':\n",
    "            #array of tuples\n",
    "            lines = outfile.read().splitlines()\n",
    "            file = []\n",
    "            for l in lines:\n",
    "                tokens = l.split('\\t')\n",
    "                file.append( ((tokens[0], tokens[1]), tokens[2]) )\n",
    "            return file\n",
    "\n",
    "def load_code_label(filepath, url_to_code):\n",
    "    data=[]\n",
    "    positive_count = 0\n",
    "    negative_count = 0\n",
    "\n",
    "    individual_code = []\n",
    "    pb1 = tqdm(total=2000)\n",
    "    with open(filepath) as f:\n",
    "        for line in f:\n",
    "            line=line.strip()\n",
    "            url1,url2,label=line.split('\\t')\n",
    "\n",
    "            if (positive_count > 500) and (negative_count > 500):\n",
    "                break\n",
    "\n",
    "            if (url1 in list(url_to_code.keys())) and (url2 in list(url_to_code.keys())):\n",
    "                if label=='0':\n",
    "                    label=0\n",
    "                else:\n",
    "                    label=1\n",
    "\n",
    "                if label == 1 and positive_count <= 500:\n",
    "                    data.append((url1,url2,label))\n",
    "                    individual_code.append(url1)\n",
    "                    individual_code.append(url2)\n",
    "\n",
    "                    positive_count += 1\n",
    "\n",
    "                    pb1.update(1)\n",
    "\n",
    "                elif label == 0 and negative_count <= 500:\n",
    "                    data.append((url1,url2,label))\n",
    "                    individual_code.append(url1)\n",
    "                    individual_code.append(url2)\n",
    "\n",
    "                    negative_count += 1\n",
    "\n",
    "                    pb1.update(1)\n",
    "        pb1.close()\n",
    "        individual_code = list(np.unique(individual_code))\n",
    "    return data, individual_code\n",
    "\"Load the dataset\"\n",
    "url_to_code = load_file(\"D:\\\\School\\\\Winter 2022\\\\Comp 599\\\\CodeXGLUE-main\\\\CodeXGLUE-main\\\\Code-Code\\\\Clone-detection-BigCloneBench\\\\dataset\\\\data.jsonl\")\n",
    "\n",
    "\"Get only the code that's shorter than 510 tokens\"\n",
    "def get_short_code(code_dict: dict) -> list:\n",
    "    short_code = {}\n",
    "    n = 0\n",
    "    for i in list(code_dict.keys()):\n",
    "        with torch.no_grad():\n",
    "            code_tokens=tokenizer.tokenize(code_dict[i])\n",
    "        if len(code_tokens) <= 512:\n",
    "            short_code[i] = code_dict[i]\n",
    "    return short_code\n",
    "\n",
    "url_to_code_short = get_short_code(url_to_code)\n",
    "\n",
    "data_idx, ind_code = load_code_label(\n",
    "    filepath=\"D:\\\\School\\\\Winter 2022\\\\Comp 599\\\\CodeXGLUE-main\\\\CodeXGLUE-main\\\\Code-Code\\\\Clone-detection-BigCloneBench\\\\dataset\\\\test.txt\",\n",
    "    url_to_code=url_to_code_short\n",
    ")\n",
    "\n",
    "print('okay')"
   ]
  },
  {
   "cell_type": "code",
   "execution_count": 15,
   "metadata": {
    "pycharm": {
     "name": "#%%\n"
    }
   },
   "outputs": [
    {
     "name": "stdout",
     "output_type": "stream",
     "text": [
      "4962\n",
      "1002\n",
      "['10131427', '10176678', '10214218', '10218878', '10281203', '10361370', '10385815', '10391753', '10436471', '10445819', '10504714', '10547671', '10674824', '10715601', '10728243', '10795866', '1097146', '1097147', '11005804', '11032546', '11153282', '11154758', '11305840', '1133123', '11334468', '11377441', '1141361', '11475527', '11477906', '11484416', '11562165', '11562173', '11616716', '11716816', '11865906', '1188100', '11933797', '11952735', '11962480', '11968328', '12004824', '12034046', '12039034', '12055086', '12085127', '12097948', '12106167', '12128591', '12171364', '12172485', '12197169', '12236729', '12242903', '12306305', '12349563', '1235538', '12380475', '12417893', '12454178', '12579075', '12783713', '12869602', '12883117', '13012591', '13024538', '13063241', '13122204', '13233761', '13368520', '13414771', '13421722', '13439950', '13499897', '13565787', '1357662', '13595251', '1362', '13644374', '13644375', '13783549', '13783898', '13891080', '13946197', '13981689', '14038176', '14047629', '14053882', '14054923', '14168494', '14188043', '14191679', '1421557', '14231545', '14303294', '14317425', '14464131', '14473711', '14502142', '14567939', '14598566', '14609912', '14650352', '14691829', '1473212', '14733078', '14764852', '14773780', '14773782', '14783950', '14785308', '14794404', '1485383', '15018553', '15051083', '1508161', '15129155', '15202804', '15351863', '15362793', '15445861', '15465293', '15510198', '15757836', '15768167', '15797402', '15822137', '1598693', '16048516', '16063533', '16092702', '16142024', '16378239', '16388708', '16466743', '16549995', '16550855', '16556717', '16572931', '16621499', '16621503', '16760971', '16798376', '16804988', '16820041', '16851955', '16931472', '16969205', '1698200', '17029388', '17111859', '17158020', '17161805', '17190057', '17193692', '17199913', '17202157', '17202158', '17207832', '17475530', '17538992', '17557289', '17627195', '17630906', '17683082', '1769771', '17716716', '17724879', '17729554', '17791385', '17792212', '17874479', '17996547', '17999474', '18046717', '18097962', '18114701', '18211588', '18238468', '18370075', '18451704', '18489832', '18504192', '18613870', '1862616', '18631594', '18696387', '18731843', '18748516', '18962382', '18974466', '19086952', '19096138', '19109981', '19134229', '19147279', '19147281', '19206412', '19235551', '19251426', '19296519', '19307120', '19335986', '19494842', '19549489', '19584877', '19652200', '19667000', '19687456', '19738435', '19747399', '19784131', '19810820', '19849797', '19868933', '19910627', '19912848', '19934218', '19944975', '20019847', '20073619', '2009072', '20091126', '20128728', '2017833', '20181656', '20190303', '20208819', '20232250', '20247400', '20267500', '20306677', '20310134', '20375440', '20414923', '20426057', '20519261', '20602651', '20619879', '20660203', '20675046', '20717531', '20724937', '20751378', '20920051', '20924119', '20929570', '20991673', '20995534', '21013026', '21063400', '21092340', '21125261', '2113444', '21182766', '21224967', '21308543', '21316706', '21326424', '21348951', '21363911', '21425787', '21488868', '21489105', '21608109', '21656668', '21821404', '21824901', '21827619', '21921000', '21930714', '21979462', '21979714', '21995302', '2199604', '21999120', '22022715', '22046596', '22057083', '22135199', '2217889', '2221297', '22235113', '22264586', '22268798', '22320592', '22338097', '22410173', '22479286', '22536033', '22560224', '22603577', '22611968', '22625683', '22708533', '22734545', '22752444', '22855019', '22879400', '22977189', '22993368', '23035537', '23118425', '23199071', '23215235', '23335922', '23370621', '23402240', '23452437', '23517481', '23532405', '23611215', '23666867', '23677128', '23677142', '23677147', '237493', '2381663', '2461169', '2518655', '2525897', '2642914', '2668853', '2676365', '2807585', '2834524', '2936678', '3024970', '3024987', '3024992', '3046085', '3184073', '3187685', '3252116', '3266833', '3330775', '338852', '339517', '3409084', '3430784', '344764', '345515', '3495460', '350482', '3514286', '3536332', '3558512', '3584508', '3631989', '3745402', '3756429', '3767903', '3945236', '3958807', '400275', '4056444', '4223002', '4272289', '4389475', '4398382', '4417943', '442381', '4458076', '4501356', '4531653', '4562786', '4599372', '4618237', '4686922', '4716110', '4750967', '4778473', '4798332', '4852691', '4937535', '4938100', '4973095', '5061606', '5135688', '5138455', '539195', '5399593', '5436973', '5543349', '5551393', '5620792', '5632808', '5676111', '5682569', '5723876', '5744493', '5744992', '5759961', '5760649', '5808579', '5836744', '5872038', '5951961', '596993', '5977352', '5998352', '6008635', '6036012', '614099', '6188784', '6190356', '6260216', '6271502', '6299111', '6301863', '6418781', '6457199', '6470716', '647224', '6501291', '6517139', '6558022', '6613944', '6625074', '665420', '6742637', '6756635', '6840241', '6866575', '693636', '6963063', '6987642', '7006052', '701029', '7044685', '7087108', '7103223', '7166270', '7169984', '720361', '7276377', '7372311', '7396682', '7458833', '7545002', '7633336', '7757297', '7761195', '7809093', '7843322', '7846688', '7891509', '7908169', '7911686', '7945594', '8000624', '8047989', '8069594', '807346', '8087001', '8119563', '8132219', '8164056', '8216539', '8320469', '8385785', '8452134', '8486429', '8490297', '8625346', '8665649', '8667872', '8690362', '873012', '8747840', '8770016', '8778962', '8815137', '884867', '886783', '8917658', '8921716', '8942491', '8953394', '9033639', '9033641', '9081749', '9099457', '9236363', '9257487', '9267602', '9272325', '9275622', '932225', '9371421', '937612', '9398454', '9413074', '9450274', '947406', '9479502', '9550506', '9738825', '9796161', '9802073', '9805906', '9996334']\n"
     ]
    }
   ],
   "source": [
    "print(len(list(url_to_code_short.keys())))\n",
    "print(len(data_idx))\n",
    "print(ind_code)"
   ]
  },
  {
   "cell_type": "code",
   "execution_count": 16,
   "metadata": {
    "pycharm": {
     "name": "#%%\n"
    }
   },
   "outputs": [
    {
     "name": "stdout",
     "output_type": "stream",
     "text": [
      "1002\n"
     ]
    }
   ],
   "source": [
    "filepath = 'D:\\\\School\\\\Winter 2022\\\\Comp 599\\\\indx_test.txt'\n",
    "i = 0\n",
    "with open(filepath, 'w+') as f:\n",
    "    for (url1, url2, label) in data_idx:\n",
    "        if (url1 in list(url_to_code_short.keys())) and (url2 in list(url_to_code_short.keys())):\n",
    "            i += 1\n",
    "            f.write(f'{url1}\\t{url2}\\t{label}\\n')\n",
    "print(i)"
   ]
  },
  {
   "cell_type": "code",
   "execution_count": 54,
   "metadata": {
    "pycharm": {
     "name": "#%%\n"
    }
   },
   "outputs": [
    {
     "ename": "KeyboardInterrupt",
     "evalue": "",
     "output_type": "error",
     "traceback": [
      "\u001B[1;31m---------------------------------------------------------------------------\u001B[0m",
      "\u001B[1;31mKeyboardInterrupt\u001B[0m                         Traceback (most recent call last)",
      "\u001B[1;32m<ipython-input-54-59c995abd854>\u001B[0m in \u001B[0;36m<module>\u001B[1;34m\u001B[0m\n\u001B[0;32m      1\u001B[0m \u001B[0mi\u001B[0m \u001B[1;33m=\u001B[0m \u001B[1;36m0\u001B[0m\u001B[1;33m\u001B[0m\u001B[1;33m\u001B[0m\u001B[0m\n\u001B[0;32m      2\u001B[0m \u001B[1;32mfor\u001B[0m \u001B[0mk\u001B[0m\u001B[1;33m,\u001B[0m \u001B[0mv\u001B[0m \u001B[1;32min\u001B[0m \u001B[0murl_to_code_short\u001B[0m\u001B[1;33m.\u001B[0m\u001B[0mitems\u001B[0m\u001B[1;33m(\u001B[0m\u001B[1;33m)\u001B[0m\u001B[1;33m:\u001B[0m\u001B[1;33m\u001B[0m\u001B[1;33m\u001B[0m\u001B[0m\n\u001B[1;32m----> 3\u001B[1;33m     \u001B[1;32mwith\u001B[0m \u001B[0mopen\u001B[0m\u001B[1;33m(\u001B[0m\u001B[1;34mf'Java Code Sample Mika\\\\{k}.txt'\u001B[0m\u001B[1;33m,\u001B[0m \u001B[1;34m'w'\u001B[0m\u001B[1;33m)\u001B[0m \u001B[1;32mas\u001B[0m \u001B[0mtext_file\u001B[0m\u001B[1;33m:\u001B[0m\u001B[1;33m\u001B[0m\u001B[1;33m\u001B[0m\u001B[0m\n\u001B[0m\u001B[0;32m      4\u001B[0m         \u001B[1;32mtry\u001B[0m\u001B[1;33m:\u001B[0m\u001B[1;33m\u001B[0m\u001B[1;33m\u001B[0m\u001B[0m\n\u001B[0;32m      5\u001B[0m             \u001B[0mtext_file\u001B[0m\u001B[1;33m.\u001B[0m\u001B[0mwrite\u001B[0m\u001B[1;33m(\u001B[0m\u001B[0mv\u001B[0m\u001B[1;33m)\u001B[0m\u001B[1;33m\u001B[0m\u001B[1;33m\u001B[0m\u001B[0m\n",
      "\u001B[1;32m<ipython-input-54-59c995abd854>\u001B[0m in \u001B[0;36m<module>\u001B[1;34m\u001B[0m\n\u001B[0;32m      1\u001B[0m \u001B[0mi\u001B[0m \u001B[1;33m=\u001B[0m \u001B[1;36m0\u001B[0m\u001B[1;33m\u001B[0m\u001B[1;33m\u001B[0m\u001B[0m\n\u001B[0;32m      2\u001B[0m \u001B[1;32mfor\u001B[0m \u001B[0mk\u001B[0m\u001B[1;33m,\u001B[0m \u001B[0mv\u001B[0m \u001B[1;32min\u001B[0m \u001B[0murl_to_code_short\u001B[0m\u001B[1;33m.\u001B[0m\u001B[0mitems\u001B[0m\u001B[1;33m(\u001B[0m\u001B[1;33m)\u001B[0m\u001B[1;33m:\u001B[0m\u001B[1;33m\u001B[0m\u001B[1;33m\u001B[0m\u001B[0m\n\u001B[1;32m----> 3\u001B[1;33m     \u001B[1;32mwith\u001B[0m \u001B[0mopen\u001B[0m\u001B[1;33m(\u001B[0m\u001B[1;34mf'Java Code Sample Mika\\\\{k}.txt'\u001B[0m\u001B[1;33m,\u001B[0m \u001B[1;34m'w'\u001B[0m\u001B[1;33m)\u001B[0m \u001B[1;32mas\u001B[0m \u001B[0mtext_file\u001B[0m\u001B[1;33m:\u001B[0m\u001B[1;33m\u001B[0m\u001B[1;33m\u001B[0m\u001B[0m\n\u001B[0m\u001B[0;32m      4\u001B[0m         \u001B[1;32mtry\u001B[0m\u001B[1;33m:\u001B[0m\u001B[1;33m\u001B[0m\u001B[1;33m\u001B[0m\u001B[0m\n\u001B[0;32m      5\u001B[0m             \u001B[0mtext_file\u001B[0m\u001B[1;33m.\u001B[0m\u001B[0mwrite\u001B[0m\u001B[1;33m(\u001B[0m\u001B[0mv\u001B[0m\u001B[1;33m)\u001B[0m\u001B[1;33m\u001B[0m\u001B[1;33m\u001B[0m\u001B[0m\n",
      "\u001B[1;32m_pydevd_bundle\\pydevd_cython_win32_38_64.pyx\u001B[0m in \u001B[0;36m_pydevd_bundle.pydevd_cython_win32_38_64.SafeCallWrapper.__call__\u001B[1;34m()\u001B[0m\n",
      "\u001B[1;32m_pydevd_bundle\\pydevd_cython_win32_38_64.pyx\u001B[0m in \u001B[0;36m_pydevd_bundle.pydevd_cython_win32_38_64.PyDBFrame.trace_dispatch\u001B[1;34m()\u001B[0m\n",
      "\u001B[1;32m_pydevd_bundle\\pydevd_cython_win32_38_64.pyx\u001B[0m in \u001B[0;36m_pydevd_bundle.pydevd_cython_win32_38_64.PyDBFrame.trace_dispatch\u001B[1;34m()\u001B[0m\n",
      "\u001B[1;32m_pydevd_bundle\\pydevd_cython_win32_38_64.pyx\u001B[0m in \u001B[0;36m_pydevd_bundle.pydevd_cython_win32_38_64.PyDBFrame.trace_dispatch\u001B[1;34m()\u001B[0m\n",
      "\u001B[1;32m_pydevd_bundle\\pydevd_cython_win32_38_64.pyx\u001B[0m in \u001B[0;36m_pydevd_bundle.pydevd_cython_win32_38_64.PyDBFrame.do_wait_suspend\u001B[1;34m()\u001B[0m\n",
      "\u001B[1;32mC:\\Program Files\\JetBrains\\PyCharm 2021.1.1\\plugins\\python\\helpers\\pydev\\pydevd.py\u001B[0m in \u001B[0;36mdo_wait_suspend\u001B[1;34m(self, thread, frame, event, arg, send_suspend_message, is_unhandled_exception)\u001B[0m\n\u001B[0;32m   1145\u001B[0m \u001B[1;33m\u001B[0m\u001B[0m\n\u001B[0;32m   1146\u001B[0m         \u001B[1;32mwith\u001B[0m \u001B[0mself\u001B[0m\u001B[1;33m.\u001B[0m\u001B[0m_threads_suspended_single_notification\u001B[0m\u001B[1;33m.\u001B[0m\u001B[0mnotify_thread_suspended\u001B[0m\u001B[1;33m(\u001B[0m\u001B[0mthread_id\u001B[0m\u001B[1;33m,\u001B[0m \u001B[0mstop_reason\u001B[0m\u001B[1;33m)\u001B[0m\u001B[1;33m:\u001B[0m\u001B[1;33m\u001B[0m\u001B[1;33m\u001B[0m\u001B[0m\n\u001B[1;32m-> 1147\u001B[1;33m             \u001B[0mself\u001B[0m\u001B[1;33m.\u001B[0m\u001B[0m_do_wait_suspend\u001B[0m\u001B[1;33m(\u001B[0m\u001B[0mthread\u001B[0m\u001B[1;33m,\u001B[0m \u001B[0mframe\u001B[0m\u001B[1;33m,\u001B[0m \u001B[0mevent\u001B[0m\u001B[1;33m,\u001B[0m \u001B[0marg\u001B[0m\u001B[1;33m,\u001B[0m \u001B[0msuspend_type\u001B[0m\u001B[1;33m,\u001B[0m \u001B[0mfrom_this_thread\u001B[0m\u001B[1;33m)\u001B[0m\u001B[1;33m\u001B[0m\u001B[1;33m\u001B[0m\u001B[0m\n\u001B[0m\u001B[0;32m   1148\u001B[0m \u001B[1;33m\u001B[0m\u001B[0m\n\u001B[0;32m   1149\u001B[0m     \u001B[1;32mdef\u001B[0m \u001B[0m_do_wait_suspend\u001B[0m\u001B[1;33m(\u001B[0m\u001B[0mself\u001B[0m\u001B[1;33m,\u001B[0m \u001B[0mthread\u001B[0m\u001B[1;33m,\u001B[0m \u001B[0mframe\u001B[0m\u001B[1;33m,\u001B[0m \u001B[0mevent\u001B[0m\u001B[1;33m,\u001B[0m \u001B[0marg\u001B[0m\u001B[1;33m,\u001B[0m \u001B[0msuspend_type\u001B[0m\u001B[1;33m,\u001B[0m \u001B[0mfrom_this_thread\u001B[0m\u001B[1;33m)\u001B[0m\u001B[1;33m:\u001B[0m\u001B[1;33m\u001B[0m\u001B[1;33m\u001B[0m\u001B[0m\n",
      "\u001B[1;32mC:\\Program Files\\JetBrains\\PyCharm 2021.1.1\\plugins\\python\\helpers\\pydev\\pydevd.py\u001B[0m in \u001B[0;36m_do_wait_suspend\u001B[1;34m(self, thread, frame, event, arg, suspend_type, from_this_thread)\u001B[0m\n\u001B[0;32m   1160\u001B[0m \u001B[1;33m\u001B[0m\u001B[0m\n\u001B[0;32m   1161\u001B[0m                 \u001B[0mself\u001B[0m\u001B[1;33m.\u001B[0m\u001B[0mprocess_internal_commands\u001B[0m\u001B[1;33m(\u001B[0m\u001B[1;33m)\u001B[0m\u001B[1;33m\u001B[0m\u001B[1;33m\u001B[0m\u001B[0m\n\u001B[1;32m-> 1162\u001B[1;33m                 \u001B[0mtime\u001B[0m\u001B[1;33m.\u001B[0m\u001B[0msleep\u001B[0m\u001B[1;33m(\u001B[0m\u001B[1;36m0.01\u001B[0m\u001B[1;33m)\u001B[0m\u001B[1;33m\u001B[0m\u001B[1;33m\u001B[0m\u001B[0m\n\u001B[0m\u001B[0;32m   1163\u001B[0m \u001B[1;33m\u001B[0m\u001B[0m\n\u001B[0;32m   1164\u001B[0m         \u001B[0mself\u001B[0m\u001B[1;33m.\u001B[0m\u001B[0mcancel_async_evaluation\u001B[0m\u001B[1;33m(\u001B[0m\u001B[0mget_current_thread_id\u001B[0m\u001B[1;33m(\u001B[0m\u001B[0mthread\u001B[0m\u001B[1;33m)\u001B[0m\u001B[1;33m,\u001B[0m \u001B[0mstr\u001B[0m\u001B[1;33m(\u001B[0m\u001B[0mid\u001B[0m\u001B[1;33m(\u001B[0m\u001B[0mframe\u001B[0m\u001B[1;33m)\u001B[0m\u001B[1;33m)\u001B[0m\u001B[1;33m)\u001B[0m\u001B[1;33m\u001B[0m\u001B[1;33m\u001B[0m\u001B[0m\n",
      "\u001B[1;31mKeyboardInterrupt\u001B[0m: "
     ]
    }
   ],
   "source": [
    "i = 0\n",
    "for k, v in url_to_code_short.items():\n",
    "    with open(f'Java Code Sample Mika\\\\{k}.txt', 'w') as text_file:\n",
    "        try:\n",
    "            text_file.write(v)\n",
    "            i += 1\n",
    "        except:\n",
    "            pass\n",
    "print(i)"
   ]
  },
  {
   "cell_type": "code",
   "execution_count": 5,
   "metadata": {
    "pycharm": {
     "name": "#%%\n"
    }
   },
   "outputs": [],
   "source": [
    "# tokenizes the dataset\n",
    "def tokenize(code : str) -> list:\n",
    "  with torch.no_grad():\n",
    "    code_tokens=tokenizer.tokenize(code)\n",
    "\n",
    "    if len(code_tokens) >= 512: #confirm tokes arent too big for model\n",
    "      return None\n",
    "    return code_tokens"
   ]
  },
  {
   "cell_type": "code",
   "execution_count": 17,
   "metadata": {
    "pycharm": {
     "name": "#%%\n"
    }
   },
   "outputs": [
    {
     "data": {
      "application/vnd.jupyter.widget-view+json": {
       "model_id": "cad6bfb128574c9a8f5db45774d41489",
       "version_major": 2,
       "version_minor": 0
      },
      "text/plain": [
       "  0%|          | 0/4962 [00:00<?, ?it/s]"
      ]
     },
     "metadata": {},
     "output_type": "display_data"
    }
   ],
   "source": [
    "# tokenizes the dataset\n",
    "def tokenize(code : str) -> list:\n",
    "  with torch.no_grad():\n",
    "    code_tokens=tokenizer.tokenize(code)\n",
    "\n",
    "    if len(code_tokens) >= 512: #confirm tokes arent too big for model\n",
    "      return None\n",
    "    return code_tokens\n",
    "\n",
    "def randomize(\n",
    "    sent:str,\n",
    "    retain_punct: bool,\n",
    "    retain_position:bool,\n",
    "    percent : float,\n",
    "    keep_order:float,\n",
    "    tokenizer,\n",
    "    seed,\n",
    "):\n",
    "\n",
    "    random.seed(seed)\n",
    "    tok = tokenizer.tokenize(sent)\n",
    "    original = copy.deepcopy(tok)\n",
    "    # modify this with the new one at the end and do some padding\n",
    "\n",
    "    num_to_keep = int(len(tok) * keep_order)\n",
    "    mask = [True for i in range(len(tok))]\n",
    "    if keep_order > 0 and num_to_keep > 0:\n",
    "        if num_to_keep == len(tok):\n",
    "            raise AssertionError(\"Cannot shuffle if all words are kept\")\n",
    "        start_id_to_keep = random.choice(range(0, len(tok) - num_to_keep))\n",
    "        end_id_to_keep = start_id_to_keep + num_to_keep\n",
    "        mask = [False if ((i >= start_id_to_keep) and (i <= end_id_to_keep)) else True for i in range(len(tok))]\n",
    "\n",
    "        kept_order = True\n",
    "    idx_to_shuffle = [i for i,m in enumerate(mask) if m]\n",
    "    random.shuffle(idx_to_shuffle)\n",
    "\n",
    "    shuffled_sentence_idx = []\n",
    "    x = 0\n",
    "    # here you're keeping sequence order & position\n",
    "    for i, m in enumerate(mask):\n",
    "        if m:\n",
    "            shuffled_sentence_idx.append(idx_to_shuffle[i - x])\n",
    "        else:\n",
    "            shuffled_sentence_idx.append(i)\n",
    "            x += 1\n",
    "    shuffled_sentence = [tok[i] for i in shuffled_sentence_idx]\n",
    "\n",
    "    # prepare shuffled sentence\n",
    "    shuffled_sentence += [tokenizer.pad_token] *  (512 - len(shuffled_sentence))\n",
    "    tokens_shuffled_sentence = [tokenizer.cls_token] + shuffled_sentence + [tokenizer.sep_token]\n",
    "    tokens_ids_shuffled_sentence = tokenizer.convert_tokens_to_ids(tokens_shuffled_sentence)\n",
    "    #tokens_ids_shuffled_sentence = torch.tensor(tokens_ids_shuffled_sentence)[None, :]\n",
    "\n",
    "    #original\n",
    "    original += [tokenizer.pad_token] *  (512 - len(original))\n",
    "    tokens_original = [tokenizer.cls_token] + original + [tokenizer.sep_token]\n",
    "    tokens_ids_original = tokenizer.convert_tokens_to_ids(tokens_original)\n",
    "    #tokens_ids_original = torch.tensor(tokens_ids_original)[None, :]\n",
    "\n",
    "    return tokens_ids_shuffled_sentence, tokens_ids_original, mask\n",
    "\n",
    "def shuffle_data(\n",
    "    data : dict,\n",
    "    tokenizer,\n",
    "    retain_punct = False,\n",
    "    num_tries=50,\n",
    "    percent=1.0\n",
    "):\n",
    "    pb = tqdm(total=len(data))\n",
    "    shuffled_data = {}\n",
    "    for k, v in data.items():\n",
    "        ## TODO: Compute the number of possible permutations\n",
    "        code = v\n",
    "        # seed: 0 -> 100 (default)\n",
    "        shuffled_data[k] = {}\n",
    "        shuffled_data[k]['shuffled'] = {}\n",
    "        for keep_order in [0]:\n",
    "            shuffled_data[k]['shuffled'][f'{keep_order}'] = []\n",
    "            for seed in range(num_tries):\n",
    "                s1, original, _ = randomize(\n",
    "                    code, #this is the sentence to shuffle\n",
    "                    seed=seed,\n",
    "                    retain_punct=retain_punct,\n",
    "                    retain_position=True,\n",
    "                    keep_order=0,\n",
    "                    percent=percent,\n",
    "                    tokenizer=tokenizer,\n",
    "                    )\n",
    "                if not('original' in list(shuffled_data[k].keys())):\n",
    "                    shuffled_data[k]['original'] = original\n",
    "                shuffled_data[k]['shuffled'][f'{keep_order}'].append(s1)\n",
    "        pb.update(1)\n",
    "    pb.close()\n",
    "    return shuffled_data\n",
    "\n",
    "shuffled_data = shuffle_data(\n",
    "    data=url_to_code_short,\n",
    "    tokenizer=tokenizer\n",
    ")\n",
    "\n",
    "with open('D:\\\\School\\\\Winter 2022\\\\Comp 599\\\\json_data.json', 'w') as outfile:\n",
    "    json.dump(shuffled_data, outfile)"
   ]
  },
  {
   "cell_type": "code",
   "execution_count": null,
   "metadata": {
    "pycharm": {
     "name": "#%%\n"
    }
   },
   "outputs": [],
   "source": [
    "with open('D:\\\\School\\\\Winter 2022\\\\Comp 599\\\\json_data.json', 'w') as outfile:\n",
    "    json.dump(shuffled_data, outfile)"
   ]
  },
  {
   "cell_type": "markdown",
   "metadata": {},
   "source": [
    "# Create some new data"
   ]
  },
  {
   "cell_type": "code",
   "execution_count": 18,
   "metadata": {
    "pycharm": {
     "name": "#%%\n"
    }
   },
   "outputs": [],
   "source": [
    "with open(\"D:\\\\School\\\\Winter 2022\\\\Comp 599\\\\json_experiment.json\", 'r') as f:\n",
    "    data = r'' + f.read()\n",
    "\n",
    "    data_json_experiment = json.loads(data)"
   ]
  },
  {
   "cell_type": "code",
   "execution_count": 77,
   "metadata": {
    "pycharm": {
     "name": "#%%\n"
    }
   },
   "outputs": [],
   "source": [
    "import matplotlib.pyplot as plt\n",
    "\n",
    "def get_prediction(pre:list):\n",
    "    i = pre[0]\n",
    "    i0 = i[0]\n",
    "    i1 = i[1]\n",
    "\n",
    "    if i0 > i1:\n",
    "        return 0\n",
    "    else:\n",
    "        return 1\n",
    "\n",
    "shuffled_accuracy = [data_json_experiment[k]['0'][0] for k in data_json_experiment.keys()]\n",
    "shuffled_accuracy_low = [data_json_experiment[k]['0'][0] for k in data_json_experiment.keys() if data_json_experiment[k]['0'][0] < 0.9]\n",
    "\n",
    "shuffled_accuracy_correct = [data_json_experiment[k]['0'][0] for k in data_json_experiment.keys() if get_prediction(data_json_experiment[k]['original']) == int(k[2])]\n",
    "shuffled_accuracy_correct_low = [data_json_experiment[k]['0'][0] for k in data_json_experiment.keys() if get_prediction(data_json_experiment[k]['original']) == k[2] and data_json_experiment[k]['0'][0] < 0.9]\n",
    "\n",
    "shuffled_accuracy_incorrect = [data_json_experiment[k]['0'][0] for k in data_json_experiment.keys() if not get_prediction(data_json_experiment[k]['original']) == int(k[2])]\n",
    "shuffled_accuracy_incorrect_low = [data_json_experiment[k]['0'][0] for k in data_json_experiment.keys() if not get_prediction(data_json_experiment[k]['original']) == k[2] and data_json_experiment[k]['0'][0] < 0.9]"
   ]
  },
  {
   "cell_type": "code",
   "execution_count": 104,
   "outputs": [],
   "source": [
    "def return_stats(results:list):\n",
    "    if not(len(results) == 0):\n",
    "        tp = 0\n",
    "        fp = 0\n",
    "        tn = 0\n",
    "        fn = 0\n",
    "        n = len(results)\n",
    "        predicted = None\n",
    "        label = None\n",
    "\n",
    "        out = {}\n",
    "\n",
    "        for i in results:\n",
    "            label = i['label']\n",
    "            predicted = i['predicted']\n",
    "            accuracy = i['accuracy']\n",
    "            if label == 0:\n",
    "                tn += 30 * accuracy\n",
    "                fp += 30 * (1-accuracy)\n",
    "\n",
    "            elif label == 1:\n",
    "                tp += 30 * accuracy\n",
    "                fn += 30 * (1-accuracy)\n",
    "\n",
    "        out['tp'] =  (tp/n)/30\n",
    "        out['fp'] = (fp/n)/30\n",
    "        out['fn'] = (fn/n)/30\n",
    "        out['tn'] = (tn/n)/30\n",
    "        out['predicted'] = predicted\n",
    "        out['label'] = label\n",
    "        out['n'] = n\n",
    "\n",
    "        return out\n",
    "    else:\n",
    "        return None"
   ],
   "metadata": {
    "collapsed": false,
    "pycharm": {
     "name": "#%%\n"
    }
   }
  },
  {
   "cell_type": "code",
   "execution_count": 88,
   "outputs": [],
   "source": [
    "shuffled_predicted_0_label_0 = [{'label': data_json_experiment[k]['label'], 'predicted': get_prediction(data_json_experiment[k]['original']), 'accuracy': data_json_experiment[k]['0'][0]} for k in data_json_experiment.keys() if (data_json_experiment[k]['label'] == 0) and (get_prediction(data_json_experiment[k]['original'])) == 0]\n",
    "shuffled_predicted_1_label_0 = [{'label': data_json_experiment[k]['label'], 'predicted': get_prediction(data_json_experiment[k]['original']), 'accuracy': data_json_experiment[k]['0'][0]} for k in data_json_experiment.keys() if (data_json_experiment[k]['label'] == 0) and (get_prediction(data_json_experiment[k]['original'])) == 1]\n",
    "\n",
    "shuffled_predicted_1_label_1 = [{'label': data_json_experiment[k]['label'], 'predicted': get_prediction(data_json_experiment[k]['original']), 'accuracy': data_json_experiment[k]['0'][0]} for k in data_json_experiment.keys() if data_json_experiment[k]['label'] == 1 and (get_prediction(data_json_experiment[k]['original'])) == 1]\n",
    "shuffled_predicted_0_label_1 = [{'label': data_json_experiment[k]['label'], 'predicted': get_prediction(data_json_experiment[k]['original']), 'accuracy': data_json_experiment[k]['0'][0]} for k in data_json_experiment.keys() if data_json_experiment[k]['label'] == 1 and (get_prediction(data_json_experiment[k]['original'])) == 0]"
   ],
   "metadata": {
    "collapsed": false,
    "pycharm": {
     "name": "#%%\n"
    }
   }
  },
  {
   "cell_type": "code",
   "execution_count": 105,
   "outputs": [],
   "source": [
    "predicted_0_label_0 = return_stats(shuffled_predicted_0_label_0)\n",
    "predicted_1_label_0 = return_stats(shuffled_predicted_1_label_0)\n",
    "predicted_1_label_1 = return_stats(shuffled_predicted_1_label_1)\n",
    "predicted_0_label_1 = return_stats(shuffled_predicted_0_label_1)"
   ],
   "metadata": {
    "collapsed": false,
    "pycharm": {
     "name": "#%%\n"
    }
   }
  },
  {
   "cell_type": "code",
   "execution_count": 106,
   "outputs": [
    {
     "name": "stdout",
     "output_type": "stream",
     "text": [
      "tp: 0.0\n",
      "fp: 0.008380566801619428\n",
      "fn: 0.0\n",
      "tn: 0.9916194331983804\n",
      "predicted: 0\n",
      "label: 0\n",
      "n: 494\n",
      "-------------------\n",
      "tp: 0.8114634146341458\n",
      "fp: 0.0\n",
      "fn: 0.1885365853658536\n",
      "tn: 0.0\n",
      "predicted: 1\n",
      "label: 1\n",
      "n: 492\n",
      "-------------------\n",
      "tp: 0.01111111111111111\n",
      "fp: 0.0\n",
      "fn: 0.9888888888888889\n",
      "tn: 0.0\n",
      "predicted: 0\n",
      "label: 1\n",
      "n: 9\n",
      "-------------------\n"
     ]
    }
   ],
   "source": [
    "for k, v in predicted_0_label_0.items():\n",
    "    print(f'{k}: {v}')\n",
    "print('-------------------')\n",
    "for k, v in predicted_1_label_1.items():\n",
    "    print(f'{k}: {v}')\n",
    "print('-------------------')\n",
    "for k, v in predicted_0_label_1.items():\n",
    "    print(f'{k}: {v}')\n",
    "print('-------------------')"
   ],
   "metadata": {
    "collapsed": false,
    "pycharm": {
     "name": "#%%\n"
    }
   }
  },
  {
   "cell_type": "code",
   "execution_count": 83,
   "outputs": [
    {
     "name": "stdout",
     "output_type": "stream",
     "text": [
      "494\n",
      "0\n",
      "492\n",
      "9\n"
     ]
    }
   ],
   "source": [
    "#print(len(data_json_experiment.keys()))\n",
    "print(len(shuffled_predicted_0_label_0))\n",
    "print(len(shuffled_predicted_1_label_0))\n",
    "\n",
    "print(len(shuffled_predicted_1_label_1))\n",
    "print(len(shuffled_predicted_0_label_1))"
   ],
   "metadata": {
    "collapsed": false,
    "pycharm": {
     "name": "#%%\n"
    }
   }
  },
  {
   "cell_type": "code",
   "execution_count": 79,
   "outputs": [
    {
     "data": {
      "text/plain": "(array([  2.,   1.,   0.,   0.,   1.,   0.,   0.,   1.,   0.,   0.,   0.,\n          1.,   2.,   1., 485.]),\n array([0.22 , 0.272, 0.324, 0.376, 0.428, 0.48 , 0.532, 0.584, 0.636,\n        0.688, 0.74 , 0.792, 0.844, 0.896, 0.948, 1.   ]),\n <a list of 15 Patch objects>)"
     },
     "execution_count": 79,
     "metadata": {},
     "output_type": "execute_result"
    },
    {
     "data": {
      "text/plain": "<Figure size 432x288 with 1 Axes>",
      "image/png": "[encoded data removed]"
     },
     "metadata": {},
     "output_type": "display_data"
    }
   ],
   "source": [
    "plt.hist (shuffled_true_label_0, bins=15)"
   ],
   "metadata": {
    "collapsed": false,
    "pycharm": {
     "name": "#%%\n"
    }
   }
  },
  {
   "cell_type": "code",
   "execution_count": 80,
   "outputs": [
    {
     "data": {
      "text/plain": "(array([ 47.,   7.,   5.,  10.,   4.,   0.,   2.,   4.,   4.,  20.,   5.,\n         16.,  21.,  14., 333.]),\n array([0.        , 0.06666667, 0.13333333, 0.2       , 0.26666667,\n        0.33333333, 0.4       , 0.46666667, 0.53333333, 0.6       ,\n        0.66666667, 0.73333333, 0.8       , 0.86666667, 0.93333333,\n        1.        ]),\n <a list of 15 Patch objects>)"
     },
     "execution_count": 80,
     "metadata": {},
     "output_type": "execute_result"
    },
    {
     "data": {
      "text/plain": "<Figure size 432x288 with 1 Axes>",
      "image/png": "[encoded data removed]"
     },
     "metadata": {},
     "output_type": "display_data"
    }
   ],
   "source": [
    "plt.hist (shuffled_true_label_1, bins=15)"
   ],
   "metadata": {
    "collapsed": false,
    "pycharm": {
     "name": "#%%\n"
    }
   }
  },
  {
   "cell_type": "code",
   "execution_count": 64,
   "metadata": {
    "pycharm": {
     "name": "#%%\n"
    }
   },
   "outputs": [
    {
     "name": "stderr",
     "output_type": "stream",
     "text": [
      "C:\\Users\\mikad\\anaconda3\\lib\\site-packages\\numpy\\core\\fromnumeric.py:3208: VisibleDeprecationWarning: Creating an ndarray from ragged nested sequences (which is a list-or-tuple of lists-or-tuples-or ndarrays with different lengths or shapes) is deprecated. If you meant to do this, you must specify 'dtype=object' when creating the ndarray.\n",
      "  return asarray(a).size\n",
      "C:\\Users\\mikad\\AppData\\Roaming\\Python\\Python38\\site-packages\\matplotlib\\cbook\\__init__.py:1376: VisibleDeprecationWarning: Creating an ndarray from ragged nested sequences (which is a list-or-tuple of lists-or-tuples-or ndarrays with different lengths or shapes) is deprecated. If you meant to do this, you must specify 'dtype=object' when creating the ndarray.\n",
      "  X = np.atleast_1d(X.T if isinstance(X, np.ndarray) else np.asarray(X))\n"
     ]
    },
    {
     "data": {
      "text/plain": "Text(0.5, 1.0, 'title')"
     },
     "execution_count": 64,
     "metadata": {},
     "output_type": "execute_result"
    },
    {
     "data": {
      "text/plain": "<Figure size 432x288 with 1 Axes>",
      "image/png": "[encoded data removed]"
     },
     "metadata": {},
     "output_type": "display_data"
    }
   ],
   "source": [
    "plt.hist ([shuffled_accuracy_correct, shuffled_accuracy_incorrect], color=['blue', 'white'], label=['1', '2'],bins=15)\n",
    "plt.title('title')"
   ]
  },
  {
   "cell_type": "code",
   "execution_count": null,
   "metadata": {},
   "outputs": [],
   "source": [
    "plt.hist ([shuffled_accuracy_low, shuffled_accuracy_correct"
   ]
  },
  {
   "cell_type": "code",
   "execution_count": 51,
   "metadata": {},
   "outputs": [
    {
     "data": {
      "text/plain": [
       "(array([[56., 11., 13.,  5.,  0.,  7., 15., 12., 19., 27.],\n",
       "        [ 0.,  0.,  0.,  0.,  0.,  0.,  0.,  0.,  0.,  0.],\n",
       "        [56., 11., 13.,  5.,  0.,  7., 15., 12., 19., 27.]]),\n",
       " array([0.   , 0.088, 0.176, 0.264, 0.352, 0.44 , 0.528, 0.616, 0.704,\n",
       "        0.792, 0.88 ]),\n",
       " <a list of 3 Lists of Patches objects>)"
      ]
     },
     "execution_count": 51,
     "metadata": {},
     "output_type": "execute_result"
    },
    {
     "data": {
      "image/png": "[encoded data removed]",
      "text/plain": [
       "<Figure size 432x288 with 1 Axes>"
      ]
     },
     "metadata": {},
     "output_type": "display_data"
    }
   ],
   "source": [
    "plt.hist ([shuffled_accuracy_low, shuffled_accuracy_correct_low, shuffled_accuracy_incorrect_low], color=['red', 'blue', 'green'], bins=10)"
   ]
  },
  {
   "cell_type": "code",
   "execution_count": 42,
   "metadata": {
    "pycharm": {
     "name": "#%%\n"
    }
   },
   "outputs": [
    {
     "name": "stderr",
     "output_type": "stream",
     "text": [
      "C:\\Users\\mikad\\anaconda3\\lib\\site-packages\\seaborn\\distributions.py:306: UserWarning: Dataset has 0 variance; skipping density estimate.\n",
      "  warnings.warn(msg, UserWarning)\n",
      "C:\\Users\\mikad\\anaconda3\\lib\\site-packages\\numpy\\lib\\histograms.py:906: RuntimeWarning: invalid value encountered in true_divide\n",
      "  return n/db/n.sum(), bin_edges\n"
     ]
    },
    {
     "data": {
      "text/plain": [
       "<matplotlib.axes._subplots.AxesSubplot at 0x28ae409cf40>"
      ]
     },
     "execution_count": 42,
     "metadata": {},
     "output_type": "execute_result"
    },
    {
     "data": {
      "image/png": "[encoded data removed]",
      "text/plain": [
       "<Figure size 432x288 with 1 Axes>"
      ]
     },
     "metadata": {},
     "output_type": "display_data"
    }
   ],
   "source": [
    "import seaborn as sns\n",
    "sns.set_theme(style='darkgrid')\n",
    "sns.histplot([shuffled_accuracy, shuffled_accuracy_correct, shuffled_accuracy_incorrect], kde=True, stat='density')"
   ]
  },
  {
   "cell_type": "code",
   "execution_count": null,
   "metadata": {},
   "outputs": [],
   "source": []
  }
 ],
 "metadata": {
  "kernelspec": {
   "display_name": "Python 3",
   "language": "python",
   "name": "python3"
  },
  "language_info": {
   "codemirror_mode": {
    "name": "ipython",
    "version": 3
   },
   "file_extension": ".py",
   "mimetype": "text/x-python",
   "name": "python",
   "nbconvert_exporter": "python",
   "pygments_lexer": "ipython3",
   "version": "3.8.8"
  }
 },
 "nbformat": 4,
 "nbformat_minor": 1
}